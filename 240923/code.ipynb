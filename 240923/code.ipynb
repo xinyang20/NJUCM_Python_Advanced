{
 "cells": [
  {
   "metadata": {},
   "cell_type": "markdown",
   "source": [
    "1、Numpy库练习：\n",
    "\n",
    "(1) 创建一个shape为(5,6)的二维全为0的ndarray对象，然后让第2,3行的第2-4列元素等于1;\n",
    "\n",
    "(2) 使用np.random库创建一个10*10的整型ndarray对象，并打印出最大最小元素;\n",
    "\n",
    "(3) 对第2题中的矩阵，计算最后两列的和;\n",
    "\n",
    "(4) 创建一个长度为10的一维随机数组并排序;\n",
    "\n",
    "(5) 创建一个一维长度为15的随机矩阵和一个9随机矩阵，将前者使用reshape改为5*3的矩阵，与3*3的矩阵，求矩阵积。"
   ],
   "id": "ec9af1ac3976f1d0"
  },
  {
   "metadata": {},
   "cell_type": "code",
   "outputs": [],
   "execution_count": null,
   "source": [
    "# 1-1\n",
    "import numpy as np\n",
    "arr1=np.zeros(shape=(5,6))\n",
    "arr1[1:3,1:4]=1\n",
    "for row in range(0,5,1):\n",
    "    for col in range(0,6,1):\n",
    "        print(arr1[row][col],end=' ')\n",
    "    print()"
   ],
   "id": "809f8e1b68bc623a"
  },
  {
   "metadata": {},
   "cell_type": "code",
   "outputs": [],
   "execution_count": null,
   "source": [
    "# 1-2\n",
    "from random import randint\n",
    "arr2=np.random.randint(low=randint(0,50), high=randint(50,100),size=(10,10))\n",
    "print(\"最大值为：\",arr2.max())\n",
    "print(\"最小值为：\",arr2.min())"
   ],
   "id": "6ff9c278fc9b6db7"
  },
  {
   "metadata": {},
   "cell_type": "code",
   "outputs": [],
   "execution_count": null,
   "source": [
    "# 1-3\n",
    "sum_last_two_column=arr2[:,-2:].sum()\n",
    "print(\"最后两列的和：\",sum_last_two_column)"
   ],
   "id": "e8d295772cf0193f"
  },
  {
   "metadata": {},
   "cell_type": "code",
   "outputs": [],
   "execution_count": null,
   "source": [
    "# 1-4\n",
    "arr4=np.random.randint(0,100,10)\n",
    "arr4.sort()\n",
    "print(arr4)"
   ],
   "id": "cd70d623ee68d4b"
  },
  {
   "metadata": {},
   "cell_type": "code",
   "outputs": [],
   "execution_count": null,
   "source": [
    "# 1-5\n",
    "a = np.random.rand(15)\n",
    "b = np.random.rand(9)\n",
    "a = a.reshape(5, 3)\n",
    "b = b.reshape(3, 3)\n",
    "c = np.dot(a, b)\n",
    "print(c)"
   ],
   "id": "626f98e6f753d965"
  },
  {
   "metadata": {},
   "cell_type": "markdown",
   "source": [
    "2、Pandas库练习：\n",
    "\n",
    "（1）创建一个包含以下数据的 DataFrame：\n",
    "\n",
    "|Name\t|Age\t|City\t|Salary\t|Department\t|Years_of_work|\n",
    "|-------|-------|-------|-------|-----------|-------------|\n",
    "|Alice\t|27\t|Nanjing\t|8000\t|IT\t|3|\n",
    "|Bob\t|24\t|New York\t|5000\t|HR\t|2|\n",
    "|Charlie\t|22\t|Los Angeles\t|6500\t|IT\t|2|\n",
    "|David\t|35\t|Chicago\t|5200\t|Finance\t|6|\n",
    "|Ouki\t|39\t|Beijing\t|20000\t|Finance\t|10|\n",
    "|Rose\t|25\t|Xian\t|6500\t|HR\t|3|\n",
    " \n",
    "（2）基于上述数据，找出所有年龄大于 25 且工资大于 6000 的员工的姓名和工资。\n",
    "\n",
    "（3）基于题(1)计算每个部门的平均工资，并找出哪个部门的总工资最高。\n",
    "\n",
    "3、matplotlib库练习：\n",
    "\n",
    "（1）绘制题2中每个部门的平均工资条形图，展示不同部门的工资水平差异。"
   ],
   "id": "c410bc4087e215ee"
  },
  {
   "metadata": {},
   "cell_type": "code",
   "outputs": [],
   "execution_count": null,
   "source": [
    "# 2-1\n",
    "import pandas as pd\n",
    "data = {\n",
    "    'Name': ['Alice', 'Bob', 'Charlie', 'David', 'Ouki', 'Rose'],\n",
    "    'Age': [27, 24, 22, 35, 39, 25],\n",
    "    'City': [None, 'New York', 'Los Angeles', 'Chicago', 'Beijing', 'Xian'],\n",
    "    'Salary': [8000, 5000, 6500, 5200, 20000, 6500],\n",
    "    'Department': ['IT', 'HR', 'IT', 'Finance', 'Finance', 'HR'],\n",
    "    'Years_of_work': [3, 2, 2, 6, 10, 3]\n",
    "}\n",
    "df = pd.DataFrame(data)\n",
    "print(\"problem 2-1 result:\\n\",df)"
   ],
   "id": "7c1718c4bfbd955"
  },
  {
   "metadata": {},
   "cell_type": "code",
   "outputs": [],
   "execution_count": null,
   "source": [
    "# 2-2\n",
    "result = df[(df['Age'] > 25) & (df['Salary'] > 6000)]\n",
    "print(\"problem 2-2 result:\\n\",result)"
   ],
   "id": "15b6e6843b8ce940"
  },
  {
   "metadata": {
    "ExecuteTime": {
     "end_time": "2024-09-23T11:32:24.142481Z",
     "start_time": "2024-09-23T11:32:23.536413Z"
    }
   },
   "cell_type": "code",
   "source": [
    "# 2-3\n",
    "avg_salary = df.groupby('Department')['Salary'].mean()\n",
    "max_salary = avg_salary.idxmax()\n",
    "print(\"problem 2-3 result:\\n\",avg_salary)"
   ],
   "id": "2546d8df64737daf",
   "outputs": [
    {
     "ename": "NameError",
     "evalue": "name 'df' is not defined",
     "output_type": "error",
     "traceback": [
      "\u001B[1;31m---------------------------------------------------------------------------\u001B[0m",
      "\u001B[1;31mNameError\u001B[0m                                 Traceback (most recent call last)",
      "Cell \u001B[1;32mIn[1], line 2\u001B[0m\n\u001B[0;32m      1\u001B[0m \u001B[38;5;66;03m# 2-3\u001B[39;00m\n\u001B[1;32m----> 2\u001B[0m avg_salary \u001B[38;5;241m=\u001B[39m \u001B[43mdf\u001B[49m\u001B[38;5;241m.\u001B[39mgroupby(\u001B[38;5;124m'\u001B[39m\u001B[38;5;124mDepartment\u001B[39m\u001B[38;5;124m'\u001B[39m)[\u001B[38;5;124m'\u001B[39m\u001B[38;5;124mSalary\u001B[39m\u001B[38;5;124m'\u001B[39m]\u001B[38;5;241m.\u001B[39mmean()\n\u001B[0;32m      3\u001B[0m max_salary \u001B[38;5;241m=\u001B[39m avg_salary\u001B[38;5;241m.\u001B[39midxmax()\n\u001B[0;32m      4\u001B[0m \u001B[38;5;28mprint\u001B[39m(\u001B[38;5;124m\"\u001B[39m\u001B[38;5;124mproblem 2-3 result:\u001B[39m\u001B[38;5;130;01m\\n\u001B[39;00m\u001B[38;5;124m\"\u001B[39m,avg_salary)\n",
      "\u001B[1;31mNameError\u001B[0m: name 'df' is not defined"
     ]
    }
   ],
   "execution_count": 1
  },
  {
   "metadata": {},
   "cell_type": "markdown",
   "source": [
    "matplotlib库练习：\n",
    "\n",
    "（1）绘制题2中每个部门的平均工资条形图，展示不同部门的工资水平差异。\n",
    "\n",
    "要求：\n",
    "\n",
    "X 轴表示部门名称，Y 轴表示平均工资。\n",
    "\n",
    "条形图上每根柱子显示具体的平均工资数值。\n",
    "\n",
    " （2）绘制一个热力图，显示每个部门与员工工作年限和工资之间的关系。\n",
    " \n",
    "要求：\n",
    "\n",
    "横轴表示 \"Department\"（部门），纵轴表示 \"Years_of_work\"（工作年限），每个方格的颜色深浅代表工资的高低。"
   ],
   "id": "380424b0a5237036"
  },
  {
   "metadata": {
    "jupyter": {
     "is_executing": true
    }
   },
   "cell_type": "code",
   "source": [
    "# 3-1\n",
    "import matplotlib.pyplot as plt\n",
    "plt.rcParams['font.sans-serif'] = ['SimHei']\n",
    "plt.rcParams['axes.unicode_minus'] = False\n",
    "avg_salary.plot(kind='bar', title='平均薪资表')\n",
    "for x, y in enumerate(avg_salary):\n",
    "    plt.text(x, y, '%.2f' % y, ha='center', va='bottom')\n",
    "plt.show()"
   ],
   "id": "f1c1c4eb31ffd737",
   "outputs": [],
   "execution_count": null
  },
  {
   "metadata": {
    "jupyter": {
     "is_executing": true
    }
   },
   "cell_type": "code",
   "source": [
    "# 3-2\n",
    "# 绘制一个热力图，显示每个部门与员工工作年限和工资之间的关系。\n",
    "#  \n",
    "# 要求：\n",
    "# \n",
    "# 横轴表示 \"Department\"（部门），纵轴表示 \"Years_of_work\"（工作年限），每个方格的颜色深浅代表工资的高低。\n",
    "import matplotlib.pyplot as plt\n",
    "import seaborn as sns\n",
    "import numpy as np\n",
    "plt.rcParams['font.sans-serif'] = ['SimHei']\n",
    "plt.rcParams['axes.unicode_minus'] = False\n",
    "df = pd.DataFrame(data)\n",
    "df = df.pivot_table(index='Department', columns='Years_of_work', values='Salary', aggfunc=np.mean)\n",
    "sns.heatmap(df, cmap='YlGnBu', annot=True)\n",
    "plt.show()"
   ],
   "id": "55d1c51021a6e6c8",
   "outputs": [],
   "execution_count": null
  }
 ],
 "metadata": {
  "kernelspec": {
   "display_name": "Python 3",
   "language": "python",
   "name": "python3"
  },
  "language_info": {
   "codemirror_mode": {
    "name": "ipython",
    "version": 2
   },
   "file_extension": ".py",
   "mimetype": "text/x-python",
   "name": "python",
   "nbconvert_exporter": "python",
   "pygments_lexer": "ipython2",
   "version": "2.7.6"
  }
 },
 "nbformat": 4,
 "nbformat_minor": 5
}
