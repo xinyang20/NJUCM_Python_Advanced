{
 "cells": [
  {
   "cell_type": "code",
   "execution_count": null,
   "id": "initial_id",
   "metadata": {
    "collapsed": true
   },
   "outputs": [],
   "source": [
    "import re\n",
    "reg=r\"\\d\"\n",
    "m=re.search(reg,\"abc123cd\")\n",
    "print(m)"
   ]
  },
  {
   "metadata": {},
   "cell_type": "code",
   "outputs": [],
   "execution_count": null,
   "source": [
    "import re\n",
    "reg=r\"b\\d+\"\n",
    "m=re.search(reg,\"a12b123c\")\n",
    "print(m)"
   ],
   "id": "b42bbf2156f88f35"
  },
  {
   "metadata": {},
   "cell_type": "code",
   "outputs": [],
   "execution_count": null,
   "source": [
    "import re\n",
    "reg=r\"ab+\"\n",
    "m=re.search(reg,\"acabc\")\n",
    "print(m)\n",
    "reg=r\"ab*\"\n",
    "m=re.search(reg,\"acabc\")\n",
    "print(m)"
   ],
   "id": "228f46ca0e29cb64"
  },
  {
   "metadata": {},
   "cell_type": "code",
   "outputs": [],
   "execution_count": null,
   "source": [
    "import re\n",
    "reg=r\"ab?\"\n",
    "m=re.search(reg,\"abbcabc\")\n",
    "print(m)"
   ],
   "id": "31d8c9333c595e1f"
  },
  {
   "metadata": {},
   "cell_type": "code",
   "outputs": [],
   "execution_count": null,
   "source": [
    "import re\n",
    "s=\"xaxby\"\n",
    "m=re.search(r\"a.b\",s)\n",
    "print(m)"
   ],
   "id": "e3e6bbec68c257e3"
  },
  {
   "metadata": {},
   "cell_type": "code",
   "outputs": [],
   "execution_count": null,
   "source": [
    "import re\n",
    "s=\"xaabababy\"\n",
    "m=re.search(r\"ab|ba\",s)\n",
    "print(m)"
   ],
   "id": "43bccd6cd7de48af"
  },
  {
   "metadata": {},
   "cell_type": "code",
   "outputs": [],
   "execution_count": null,
   "source": [
    "import re\n",
    "reg=r\"a\\nb?\"\n",
    "m=re.search(reg,\"ca\\nbcabc\")\n",
    "print(m)"
   ],
   "id": "2b39b575bfac0d83"
  },
  {
   "metadata": {},
   "cell_type": "code",
   "outputs": [],
   "execution_count": null,
   "source": [
    "import re\n",
    "reg=r\"car\\b\"\n",
    "m=re.search(reg,\"The car is black\")\n",
    "print(m)"
   ],
   "id": "56cc12c7890875e1"
  },
  {
   "metadata": {},
   "cell_type": "code",
   "outputs": [],
   "execution_count": null,
   "source": [
    "import re\n",
    "reg=r\"x[0-9]y\"\n",
    "m=re.search(reg,\"xyx2y\")\n",
    "print(m)"
   ],
   "id": "721b9b68c60d8b86"
  },
  {
   "metadata": {},
   "cell_type": "code",
   "outputs": [],
   "execution_count": null,
   "source": [
    "import re\n",
    "reg=r\"x[^ab0-9]y\"\n",
    "m=re.search(reg,\"xayx2yxcy\")\n",
    "print(m)"
   ],
   "id": "4b1dd54102a71a53"
  }
 ],
 "metadata": {
  "kernelspec": {
   "display_name": "Python 3",
   "language": "python",
   "name": "python3"
  },
  "language_info": {
   "codemirror_mode": {
    "name": "ipython",
    "version": 2
   },
   "file_extension": ".py",
   "mimetype": "text/x-python",
   "name": "python",
   "nbconvert_exporter": "python",
   "pygments_lexer": "ipython2",
   "version": "2.7.6"
  }
 },
 "nbformat": 4,
 "nbformat_minor": 5
}
